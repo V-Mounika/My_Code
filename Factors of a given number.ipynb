{
 "cells": [
  {
   "cell_type": "code",
   "execution_count": 1,
   "id": "2a5707f0",
   "metadata": {},
   "outputs": [],
   "source": [
    "#Program to check the factors of a given number.\n",
    "\n",
    "#using  functions concept in python."
   ]
  },
  {
   "cell_type": "code",
   "execution_count": 15,
   "id": "15304a33",
   "metadata": {},
   "outputs": [
    {
     "name": "stdout",
     "output_type": "stream",
     "text": [
      "\n",
      "The factors of 750 are:\n",
      "1 2 3 5 6 10 15 25 30 50 75 125 150 250 375 750 \n",
      "The factors of 250 are:\n",
      "1 2 5 10 25 50 125 250 "
     ]
    }
   ],
   "source": [
    "def factors(x):    #defining a function using a def keyword followed by function name and arguments.\n",
    "    print(\"\\nThe factors of {} are:\".format(x))\n",
    "    for i in range(1, x + 1):   #for loop range starts from 1 to til x value.\n",
    "        if x % i == 0:\n",
    "            print(i, end = \" \")\n",
    "            \n",
    "factors(750)  #calling a function and providing the input of the given arguments\n",
    "factors(250)"
   ]
  },
  {
   "cell_type": "code",
   "execution_count": null,
   "id": "30581d2b",
   "metadata": {},
   "outputs": [],
   "source": []
  },
  {
   "cell_type": "code",
   "execution_count": null,
   "id": "d3aa8df7",
   "metadata": {},
   "outputs": [],
   "source": []
  }
 ],
 "metadata": {
  "kernelspec": {
   "display_name": "Python 3",
   "language": "python",
   "name": "python3"
  },
  "language_info": {
   "codemirror_mode": {
    "name": "ipython",
    "version": 3
   },
   "file_extension": ".py",
   "mimetype": "text/x-python",
   "name": "python",
   "nbconvert_exporter": "python",
   "pygments_lexer": "ipython3",
   "version": "3.9.4"
  }
 },
 "nbformat": 4,
 "nbformat_minor": 5
}
