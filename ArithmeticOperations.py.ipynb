{
 "cells": [
  {
   "cell_type": "code",
   "execution_count": null,
   "id": "cd0033c2",
   "metadata": {},
   "outputs": [],
   "source": [
    "#Basic Calculater"
   ]
  },
  {
   "cell_type": "code",
   "execution_count": 33,
   "id": "ef8082a6",
   "metadata": {},
   "outputs": [
    {
     "name": "stdout",
     "output_type": "stream",
     "text": [
      "Enter a value:300\n",
      "\n",
      "Enter a value:6\n",
      "\n",
      "1- Addition of 2 numbers\n",
      "\n",
      "2-Subtarction of 2 numbers\n",
      "\n",
      "3-Division of 2 numbers\n",
      "\n",
      "4-modules of 2 numbers\n",
      "\n",
      "5-Multiplication of 2 numbers\n",
      "\n",
      "Chosee a number:3\n",
      "\n",
      "Division of 300.0 and 6.0 is :50.0\n"
     ]
    }
   ],
   "source": [
    "#a = int(input(\"Enter a value:\"))\n",
    "#b = int(input(\"Enter a value:\"))\n",
    "\n",
    "a = float(input(\"Enter a value:\"))\n",
    "b = float(input(\"\\nEnter a value:\"))\n",
    "\n",
    "\n",
    "print(\"\\n1- Addition of 2 numbers\\n\\n2-Subtarction of 2 numbers\\n\\n3-Division of 2 numbers\\n\\n4-modules of 2 numbers\\n\\n5-Multiplication of 2 numbers\")\n",
    "Choice =int(input(\"\\nChosee a number:\"))\n",
    "\n",
    "\n",
    "if Choice == 1:\n",
    "    Sum = a + b\n",
    "    print(\"\\nAddition of {} and {} is :{}\".format(a,b,Sum))\n",
    "        \n",
    "    \n",
    "elif Choice == 2:\n",
    "    Difference = a - b\n",
    "    print(\"\\nDifference of {} and {} is :{}\".format(a,b,abs(Difference)))\n",
    "        \n",
    "    \n",
    "elif Choice == 3:\n",
    "    Division = a//b  #returns quoitent as a output\n",
    "    print(\"\\nDivision of {} and {} is :{}\".format(a,b,Division))\n",
    "       \n",
    "    \n",
    "elif Choice == 4:\n",
    "    Modules = a%b  #returns remainder as a output\n",
    "    print(\"\\nModules of {} and {} is:{}\".format(a,b,Modules))\n",
    "       \n",
    "    \n",
    "elif Choice == 5:\n",
    "    Product = a * b\n",
    "    print(\"\\nProduct of {} and {} is:{}\".format(a,b,Product))\n",
    "        \n",
    "    \n",
    "else:\n",
    "    print(\"\\nChossen the invalid number!.Please chosse any number from 1 to 5\")\n",
    "   \n",
    "          \n",
    "          "
   ]
  },
  {
   "cell_type": "code",
   "execution_count": null,
   "id": "54c06b9b",
   "metadata": {},
   "outputs": [],
   "source": []
  },
  {
   "cell_type": "code",
   "execution_count": null,
   "id": "80dd3db4",
   "metadata": {},
   "outputs": [],
   "source": []
  },
  {
   "cell_type": "code",
   "execution_count": null,
   "id": "e55ad0b1",
   "metadata": {},
   "outputs": [],
   "source": []
  }
 ],
 "metadata": {
  "kernelspec": {
   "display_name": "Python 3",
   "language": "python",
   "name": "python3"
  },
  "language_info": {
   "codemirror_mode": {
    "name": "ipython",
    "version": 3
   },
   "file_extension": ".py",
   "mimetype": "text/x-python",
   "name": "python",
   "nbconvert_exporter": "python",
   "pygments_lexer": "ipython3",
   "version": "3.9.4"
  }
 },
 "nbformat": 4,
 "nbformat_minor": 5
}
