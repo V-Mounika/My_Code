{
 "cells": [
  {
   "cell_type": "code",
   "execution_count": 8,
   "id": "37cc9f90",
   "metadata": {},
   "outputs": [
    {
     "name": "stdout",
     "output_type": "stream",
     "text": [
      "Enter a letter:e\n",
      "Given letter is a vowel\n"
     ]
    }
   ],
   "source": [
    "\n",
    "#program to test whether a passed letter is a vowel or not.\n",
    "# using if else conditional stmts in the program.\n",
    "\n",
    "\n",
    "L = input(\"Enter a letter:\")\n",
    "V = ('a','e','i','o','u','A','E','I','O','U')\n",
    "\n",
    "if L in V:\n",
    "    print(\"Given letter is a vowel\")\n",
    "else :\n",
    "    print(\"Given letter is not a vowel\")\n"
   ]
  }
 ],
 "metadata": {
  "kernelspec": {
   "display_name": "Python 3",
   "language": "python",
   "name": "python3"
  },
  "language_info": {
   "codemirror_mode": {
    "name": "ipython",
    "version": 3
   },
   "file_extension": ".py",
   "mimetype": "text/x-python",
   "name": "python",
   "nbconvert_exporter": "python",
   "pygments_lexer": "ipython3",
   "version": "3.9.4"
  }
 },
 "nbformat": 4,
 "nbformat_minor": 5
}
