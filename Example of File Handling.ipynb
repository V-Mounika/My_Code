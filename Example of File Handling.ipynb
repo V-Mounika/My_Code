{
 "cells": [
  {
   "cell_type": "code",
   "execution_count": 55,
   "id": "9a022a78",
   "metadata": {},
   "outputs": [],
   "source": [
    "with open(r\"F:\\Python files\\Practice_Code_Using_JupyterNotbook\\POEM.txt\",'w+') as file1:\n",
    "    file1.write(\"\"\"Teddy Bear teddy bear,\n",
    "Turn around!\n",
    "Teddy Bear teddy bear,\n",
    "Touch the ground\n",
    "Teddy Bear teddy bear,\n",
    "Jump up high!\n",
    "Teddy Bear teddy bear,\n",
    "Touch the sky\n",
    "\n",
    "Teddy Bear teddy bear,\n",
    "Bend down low!\n",
    "Teddy Bear teddy bear,\n",
    "Touch you toes\n",
    "Teddy Bear teddy bear,\n",
    "Turn out the light!\n",
    "Teddy Bear teddy bear,\n",
    "Say good night.\"\"\")\n",
    "  "
   ]
  },
  {
   "cell_type": "code",
   "execution_count": 56,
   "id": "47e37055",
   "metadata": {},
   "outputs": [
    {
     "name": "stdout",
     "output_type": "stream",
     "text": [
      "{'Teddy': 8, 'Bear': 8, 'teddy': 8, 'bear,\\n': 8, 'Turn': 2, 'around!\\n': 1, 'Touch': 3, 'the': 3, 'ground\\n': 1, 'Jump': 1, 'up': 1, 'high!\\n': 1, 'sky\\n': 1, '\\n': 1, 'Bend': 1, 'down': 1, 'low!\\n': 1, 'you': 1, 'toes\\n': 1, 'out': 1, 'light!\\n': 1, 'Say': 1, 'good': 1, 'night.': 1}\n",
      "\n",
      "Max occurence of a word in poem: 8\n",
      "\n",
      "These words are occured maximum no of times: Teddy\n",
      "\n",
      "These words are occured maximum no of times: Bear\n",
      "\n",
      "These words are occured maximum no of times: teddy\n",
      "\n",
      "These words are occured maximum no of times: bear,\n",
      "\n"
     ]
    }
   ],
   "source": [
    "word_count = {}\n",
    "with open(r\"F:\\Python files\\Practice_Code_Using_JupyterNotbook\\POEM.txt\",\"r\") as f :\n",
    "    for lines in f:\n",
    "        words = lines.split(' ')\n",
    "        for word in words:\n",
    "            if word in word_count:\n",
    "                word_count[word] +=1\n",
    "            else:\n",
    "                word_count[word] =1\n",
    "    print(word_count)      \n",
    "\n",
    "word_occurence = list(word_count.values())\n",
    "max_count = max(word_occurence)\n",
    "print(\"\\nMax occurence of a word in poem:\",max_count)\n",
    "\n",
    "for word, count in word_count.items():\n",
    "    if count == max_count:\n",
    "        print(\"\\nThese words are occured maximum no of times:\",word)\n"
   ]
  },
  {
   "cell_type": "code",
   "execution_count": null,
   "id": "2f160c8d",
   "metadata": {},
   "outputs": [],
   "source": []
  }
 ],
 "metadata": {
  "kernelspec": {
   "display_name": "Python 3",
   "language": "python",
   "name": "python3"
  },
  "language_info": {
   "codemirror_mode": {
    "name": "ipython",
    "version": 3
   },
   "file_extension": ".py",
   "mimetype": "text/x-python",
   "name": "python",
   "nbconvert_exporter": "python",
   "pygments_lexer": "ipython3",
   "version": "3.9.4"
  }
 },
 "nbformat": 4,
 "nbformat_minor": 5
}
