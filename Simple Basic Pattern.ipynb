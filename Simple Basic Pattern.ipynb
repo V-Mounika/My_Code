{
 "cells": [
  {
   "cell_type": "code",
   "execution_count": null,
   "id": "3ed81bb4",
   "metadata": {},
   "outputs": [],
   "source": [
    "#Pattern (Right angle triangle/pyramid ) (using the nested for loop concept)"
   ]
  },
  {
   "cell_type": "code",
   "execution_count": 11,
   "id": "9d2d58b5",
   "metadata": {},
   "outputs": [
    {
     "name": "stdout",
     "output_type": "stream",
     "text": [
      "Enter number of rows needed:6\n",
      "* \n",
      "** \n",
      "*** \n",
      "**** \n",
      "***** \n",
      "****** \n"
     ]
    }
   ],
   "source": [
    "rows = int(input(\"Enter number of rows needed:\"))\n",
    "\n",
    "for i in range(0,rows):   \n",
    "    for j in range(0,i+1):\n",
    "        print(\"*\", end = '')\n",
    "    print(\" \")\n",
    "    "
   ]
  },
  {
   "cell_type": "code",
   "execution_count": 6,
   "id": "e2e948bf",
   "metadata": {},
   "outputs": [
    {
     "name": "stdout",
     "output_type": "stream",
     "text": [
      "Enter number of rows needed:6\n",
      "* \n",
      "** \n",
      "*** \n",
      "**** \n",
      "***** \n",
      "****** \n",
      " \n",
      "****** \n",
      "***** \n",
      "**** \n",
      "*** \n",
      "** \n",
      "* \n",
      " \n"
     ]
    }
   ],
   "source": [
    "rows = int(input(\"Enter number of rows needed:\"))\n",
    "\n",
    "for i in range(0,rows):\n",
    "    for j in range(0,i+1):\n",
    "        print(\"*\", end = '')\n",
    "    print(\" \")\n",
    "    \n",
    "print(\" \")\n",
    "\n",
    "for i in range(rows+1,0,-1):\n",
    "    for j in range(0, i-1):\n",
    "        print(\"*\", end ='')\n",
    "    print(\" \")    \n",
    "        "
   ]
  },
  {
   "cell_type": "code",
   "execution_count": null,
   "id": "08b551bf",
   "metadata": {},
   "outputs": [],
   "source": []
  }
 ],
 "metadata": {
  "kernelspec": {
   "display_name": "Python 3",
   "language": "python",
   "name": "python3"
  },
  "language_info": {
   "codemirror_mode": {
    "name": "ipython",
    "version": 3
   },
   "file_extension": ".py",
   "mimetype": "text/x-python",
   "name": "python",
   "nbconvert_exporter": "python",
   "pygments_lexer": "ipython3",
   "version": "3.9.4"
  }
 },
 "nbformat": 4,
 "nbformat_minor": 5
}
