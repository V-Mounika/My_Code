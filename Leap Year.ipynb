{
 "cells": [
  {
   "cell_type": "code",
   "execution_count": null,
   "id": "fb31475d",
   "metadata": {},
   "outputs": [],
   "source": [
    "#Program to check a Leap Year(366 days) using Nested if else \n",
    "#Conditions to check a Leap Year are:\n",
    "#1)The year should be exactly divisiable by 4 except for century years(years ending with 00).\n",
    "#2)For century year's the leap year should be divisible by 400."
   ]
  },
  {
   "cell_type": "code",
   "execution_count": 21,
   "id": "0b9cb166",
   "metadata": {},
   "outputs": [
    {
     "name": "stdout",
     "output_type": "stream",
     "text": [
      "Enter a Year:2021\n",
      "2021 is not a Leap Year\n"
     ]
    }
   ],
   "source": [
    "Year = int(input(\"Enter a Year:\"))\n",
    "\n",
    "if (Year % 4) == 0:\n",
    "    if (Year % 100)== 0:\n",
    "        if (Year % 400) ==0:\n",
    "            print(\" {} is a Leap Year\".format(Year))\n",
    "        else:\n",
    "            print(\"{} is not a Leap Year\".format(Year))\n",
    "            \n",
    "    else:\n",
    "        print(\"{} is  a Leap Year\".format(Year))\n",
    "        \n",
    "        \n",
    "else:\n",
    "    print(\"{} is not a Leap Year\".format(Year))\n"
   ]
  },
  {
   "cell_type": "code",
   "execution_count": null,
   "id": "bfbcdd5a",
   "metadata": {},
   "outputs": [],
   "source": [
    "#Checking Leap Year using calender module"
   ]
  },
  {
   "cell_type": "code",
   "execution_count": 32,
   "id": "92f94b12",
   "metadata": {},
   "outputs": [
    {
     "name": "stdout",
     "output_type": "stream",
     "text": [
      "Enter a Year:1996\n",
      "\n",
      "1996 is a Leap Year\n"
     ]
    }
   ],
   "source": [
    "import calendar as c\n",
    "\n",
    "year = int(input(\"Enter a Year:\"))\n",
    "\n",
    "#isleap() function will return output as True or false.It takes exact one argument.\n",
    "\n",
    "if (c.isleap(year)):\n",
    "    print(\"\\n{} is a Leap Year\".format(year))\n",
    "else:\n",
    "    print(f\"\\n{year} is not a Leap Year\")\n"
   ]
  },
  {
   "cell_type": "code",
   "execution_count": null,
   "id": "b86b14b3",
   "metadata": {},
   "outputs": [],
   "source": []
  }
 ],
 "metadata": {
  "kernelspec": {
   "display_name": "Python 3",
   "language": "python",
   "name": "python3"
  },
  "language_info": {
   "codemirror_mode": {
    "name": "ipython",
    "version": 3
   },
   "file_extension": ".py",
   "mimetype": "text/x-python",
   "name": "python",
   "nbconvert_exporter": "python",
   "pygments_lexer": "ipython3",
   "version": "3.9.4"
  }
 },
 "nbformat": 4,
 "nbformat_minor": 5
}
