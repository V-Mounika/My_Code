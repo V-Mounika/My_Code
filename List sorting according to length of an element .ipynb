{
 "cells": [
  {
   "cell_type": "code",
   "execution_count": 4,
   "id": "10d062c8",
   "metadata": {},
   "outputs": [
    {
     "name": "stdout",
     "output_type": "stream",
     "text": [
      "Enter a number:5\n",
      "Enter a element:Apple\n",
      "Enter a element:Watermelon\n",
      "Enter a element:Pie\n",
      "Enter a element:Ball\n",
      "Enter a element:LG\n",
      "List of iteams after sorting in ascending order: ['Apple', 'Ball', 'LG', 'Pie', 'Watermelon']\n",
      "List based on length of an element: ['LG', 'Pie', 'Ball', 'Apple', 'Watermelon']\n"
     ]
    }
   ],
   "source": [
    "#Program to sort a list based on the lengh of an element/Value.\n",
    "a = []\n",
    "n = int(input(\"Enter a number:\"))\n",
    "\n",
    "for i in range(1,n+1):\n",
    "    \n",
    "    b = input(\"Enter a element:\")\n",
    "    a.append(b)\n",
    "    \n",
    "a.sort()\n",
    "print(\"List of iteams after sorting in ascending order:\",a)\n",
    "a.sort(key=len)\n",
    "print(\"List based on length of an element:\",a)\n",
    "    \n",
    "    "
   ]
  }
 ],
 "metadata": {
  "kernelspec": {
   "display_name": "Python 3",
   "language": "python",
   "name": "python3"
  },
  "language_info": {
   "codemirror_mode": {
    "name": "ipython",
    "version": 3
   },
   "file_extension": ".py",
   "mimetype": "text/x-python",
   "name": "python",
   "nbconvert_exporter": "python",
   "pygments_lexer": "ipython3",
   "version": "3.9.4"
  }
 },
 "nbformat": 4,
 "nbformat_minor": 5
}
