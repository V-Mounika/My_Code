{
 "cells": [
  {
   "cell_type": "markdown",
   "id": "73403294",
   "metadata": {},
   "source": [
    "# Program to swap first and last values in a list."
   ]
  },
  {
   "cell_type": "code",
   "execution_count": 10,
   "id": "223436d6",
   "metadata": {},
   "outputs": [
    {
     "name": "stdout",
     "output_type": "stream",
     "text": [
      "Enter a number of elements requried in a List:5\n",
      "Enter a element:apple\n",
      "Enter a element:orange\n",
      "Enter a element:grapes\n",
      "Enter a element:pineapple\n",
      "Enter a element:mango\n",
      "List1 after appending requried elements: ['apple', 'orange', 'grapes', 'pineapple', 'mango']\n",
      "List1 after sorting: ['apple', 'grapes', 'mango', 'orange', 'pineapple']\n",
      "List1 after swapning first and last element: ['pineapple', 'grapes', 'mango', 'orange', 'apple']\n"
     ]
    }
   ],
   "source": [
    "#Program includes 2 list built-in methods append,sort.\n",
    "\n",
    "List1 = []  #empty list\n",
    "num = int(input(\"Enter a number of elements requried in a List:\")) #providing the integer value dynamically.\n",
    "\n",
    "for i in range(1,num+1):    #for loop iterates \"num\" of times\n",
    "    \n",
    "    values = input(\"Enter a element:\")  #providing the elements/values to a list one by one.\n",
    "    List1.append(values)  #append() will add the given value at the end of the list.\n",
    "    \n",
    "print(\"List1 after appending requried elements:\",List1)\n",
    "\n",
    "List1.sort()    #sort() will sort the values in ascending order.\n",
    "print(\"List1 after sorting:\",List1)\n",
    "\n",
    "#swaping the first and last values.\n",
    "#temp = List1[0]\n",
    "#List1[0] = List1[num-1]\n",
    "#List1[num-1] = temp\n",
    "\n",
    "List1[0] , List1[num-1] = List1[num-1] , List1[0]  #another way of swapning two values.\n",
    "\n",
    "print(\"List1 after swapning first and last element:\",List1)"
   ]
  },
  {
   "cell_type": "code",
   "execution_count": null,
   "id": "573b276d",
   "metadata": {},
   "outputs": [],
   "source": []
  }
 ],
 "metadata": {
  "kernelspec": {
   "display_name": "Python 3",
   "language": "python",
   "name": "python3"
  },
  "language_info": {
   "codemirror_mode": {
    "name": "ipython",
    "version": 3
   },
   "file_extension": ".py",
   "mimetype": "text/x-python",
   "name": "python",
   "nbconvert_exporter": "python",
   "pygments_lexer": "ipython3",
   "version": "3.9.4"
  }
 },
 "nbformat": 4,
 "nbformat_minor": 5
}
