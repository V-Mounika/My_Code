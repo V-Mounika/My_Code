{
 "cells": [
  {
   "cell_type": "code",
   "execution_count": 3,
   "id": "ecdfbe00",
   "metadata": {},
   "outputs": [
    {
     "name": "stdout",
     "output_type": "stream",
     "text": [
      "\n",
      "Enter a String:Python is a high level programming language\n",
      "\n",
      "Original String: Python is a high level programming language\n",
      "\n",
      "Reverse String: egaugnal gnimmargorp level hgih a si nohtyP\n"
     ]
    }
   ],
   "source": [
    "#Reversing a string\n",
    "\n",
    "string1 = input(\"\\nEnter a String:\")\n",
    "print(\"\\nOriginal String:\",string1)\n",
    "reverse = \"\"\n",
    "count = len(string1)\n",
    "\n",
    "while count > 0:\n",
    "    reverse+=string1[count-1]\n",
    "    count-=1\n",
    "print(\"\\nReverse String:\",reverse)    \n",
    "    \n",
    "    "
   ]
  },
  {
   "cell_type": "code",
   "execution_count": null,
   "id": "1c46a7c5",
   "metadata": {},
   "outputs": [],
   "source": []
  },
  {
   "cell_type": "code",
   "execution_count": null,
   "id": "d3873eeb",
   "metadata": {},
   "outputs": [],
   "source": []
  }
 ],
 "metadata": {
  "kernelspec": {
   "display_name": "Python 3",
   "language": "python",
   "name": "python3"
  },
  "language_info": {
   "codemirror_mode": {
    "name": "ipython",
    "version": 3
   },
   "file_extension": ".py",
   "mimetype": "text/x-python",
   "name": "python",
   "nbconvert_exporter": "python",
   "pygments_lexer": "ipython3",
   "version": "3.9.4"
  }
 },
 "nbformat": 4,
 "nbformat_minor": 5
}
