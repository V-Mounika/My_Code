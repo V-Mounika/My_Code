{
 "cells": [
  {
   "cell_type": "markdown",
   "id": "bab51122",
   "metadata": {},
   "source": [
    "# Guess a Random number."
   ]
  },
  {
   "cell_type": "code",
   "execution_count": 6,
   "id": "c77c6ba4",
   "metadata": {},
   "outputs": [
    {
     "name": "stdout",
     "output_type": "stream",
     "text": [
      "Enter a number:17\n",
      "Wrong guess!, Try a smaller number\n",
      "Enter a number:13\n",
      "Wrong guess!, Try a smaller number\n",
      "Enter a number:11\n",
      "Wrong guess!, Try a smaller number\n",
      "Enter a number:7\n",
      "Wrong guess!, Try a smaller number\n",
      "Enter a number:4\n",
      "Wrong guess!, Try a greater number\n",
      "Enter a number:5\n",
      "Wrong guess!, Try a greater number\n",
      "Enter a number:6\n",
      "Congratulations!, You have guessed the correct number\n"
     ]
    }
   ],
   "source": [
    "import random\n",
    "\n",
    "r = random.randint(0,20)\n",
    "\n",
    "while(True):\n",
    "    \n",
    "    num = int(input(\"Enter a number:\"))\n",
    "    if (num > r):\n",
    "        \n",
    "        print(\"Wrong guess!, Try a smaller number\")\n",
    "        \n",
    "    elif(num < r):\n",
    "        \n",
    "        print(\"Wrong guess!, Try a greater number\")\n",
    "    else:\n",
    "        print(\"Congratulations!, You have guessed the correct number\")\n",
    "        break\n",
    "\n"
   ]
  }
 ],
 "metadata": {
  "kernelspec": {
   "display_name": "Python 3",
   "language": "python",
   "name": "python3"
  },
  "language_info": {
   "codemirror_mode": {
    "name": "ipython",
    "version": 3
   },
   "file_extension": ".py",
   "mimetype": "text/x-python",
   "name": "python",
   "nbconvert_exporter": "python",
   "pygments_lexer": "ipython3",
   "version": "3.9.4"
  }
 },
 "nbformat": 4,
 "nbformat_minor": 5
}
