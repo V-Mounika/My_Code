{
 "cells": [
  {
   "cell_type": "code",
   "execution_count": null,
   "id": "bc67807f",
   "metadata": {},
   "outputs": [],
   "source": [
    "# program where includes the append and join methods\n",
    "# program to find all the numbers between 100 to 1000 which are divisble by 7 but should not be multiple of 5.\n",
    "#The numbers should print comma - sepearte sequence."
   ]
  },
  {
   "cell_type": "code",
   "execution_count": 5,
   "id": "1c7c758c",
   "metadata": {},
   "outputs": [
    {
     "name": "stdout",
     "output_type": "stream",
     "text": [
      "[105, 112, 119, 126, 133, 140, 147, 154, 161, 168, 175, 182, 189, 196, 203, 210, 217, 224, 231, 238, 245, 252, 259, 266, 273, 280, 287, 294, 301, 308, 315, 322, 329, 336, 343, 350, 357, 364, 371, 378, 385, 392, 399, 406, 413, 420, 427, 434, 441, 448, 455, 462, 469, 476, 483, 490, 497, 504, 511, 518, 525, 532, 539, 546, 553, 560, 567, 574, 581, 588, 595, 602, 609, 616, 623, 630, 637, 644, 651, 658, 665, 672, 679, 686, 693, 700, 707, 714, 721, 728, 735, 742, 749, 756, 763, 770, 777, 784, 791, 798, 805, 812, 819, 826, 833, 840, 847, 854, 861, 868, 875, 882, 889, 896, 903, 910, 917, 924, 931, 938, 945, 952, 959, 966, 973, 980, 987, 994]\n"
     ]
    }
   ],
   "source": [
    "\n",
    "list1= []\n",
    "\n",
    "for i in range(100, 1001):\n",
    "    if (i%7==0) and (i*5!=0):\n",
    "        \n",
    "        list1. append(i)\n",
    "print(list1)\n",
    "\n"
   ]
  },
  {
   "cell_type": "code",
   "execution_count": null,
   "id": "50d1d76b",
   "metadata": {},
   "outputs": [],
   "source": [
    "##The numbers should print comma - sepearte sequence in a single line."
   ]
  },
  {
   "cell_type": "code",
   "execution_count": 6,
   "id": "bc091779",
   "metadata": {},
   "outputs": [
    {
     "name": "stdout",
     "output_type": "stream",
     "text": [
      "105,112,119,126,133,140,147,154,161,168,175,182,189,196,203,210,217,224,231,238,245,252,259,266,273,280,287,294,301,308,315,322,329,336,343,350,357,364,371,378,385,392,399,406,413,420,427,434,441,448,455,462,469,476,483,490,497,504,511,518,525,532,539,546,553,560,567,574,581,588,595,602,609,616,623,630,637,644,651,658,665,672,679,686,693,700,707,714,721,728,735,742,749,756,763,770,777,784,791,798,805,812,819,826,833,840,847,854,861,868,875,882,889,896,903,910,917,924,931,938,945,952,959,966,973,980,987,994\n"
     ]
    }
   ],
   "source": [
    "list1= []\n",
    "\n",
    "for i in range(100, 1001):\n",
    "    if (i%7==0) and (i*5!=0):\n",
    "        \n",
    "        list1. append(str(i))\n",
    "print(','.join(list1))"
   ]
  },
  {
   "cell_type": "code",
   "execution_count": null,
   "id": "828a3cba",
   "metadata": {},
   "outputs": [],
   "source": []
  }
 ],
 "metadata": {
  "kernelspec": {
   "display_name": "Python 3",
   "language": "python",
   "name": "python3"
  },
  "language_info": {
   "codemirror_mode": {
    "name": "ipython",
    "version": 3
   },
   "file_extension": ".py",
   "mimetype": "text/x-python",
   "name": "python",
   "nbconvert_exporter": "python",
   "pygments_lexer": "ipython3",
   "version": "3.9.4"
  }
 },
 "nbformat": 4,
 "nbformat_minor": 5
}
